{
 "cells": [
  {
   "cell_type": "code",
   "execution_count": 1,
   "metadata": {},
   "outputs": [
    {
     "name": "stdout",
     "output_type": "stream",
     "text": [
      "2.5.1+cu124\n",
      "True\n"
     ]
    }
   ],
   "source": [
    "import torch\n",
    "print(torch.__version__)\n",
    "print(torch.cuda.is_available())"
   ]
  },
  {
   "cell_type": "markdown",
   "metadata": {},
   "source": [
    "# TODO FOR MODEL CReATION\n",
    "- [x] Causal convolution layer\n",
    "- [.] build the basic architecture of the model\n",
    "- [.] Add features as mentioned in research paper\n",
    "- [.] utility functions to be built \n"
   ]
  },
  {
   "cell_type": "markdown",
   "metadata": {},
   "source": [
    "# CODE KRO BHAI"
   ]
  },
  {
   "cell_type": "code",
   "execution_count": 2,
   "metadata": {},
   "outputs": [],
   "source": [
    "import torch.nn as nn\n",
    "import torch.nn.functional as F"
   ]
  },
  {
   "cell_type": "markdown",
   "metadata": {},
   "source": [
    "# causal convolution layer implemented below"
   ]
  },
  {
   "cell_type": "code",
   "execution_count": 3,
   "metadata": {},
   "outputs": [],
   "source": [
    "class CausalConv1D(nn.Module):\n",
    "    def __init__(self, in_channels, out_channels, kernel_size, stride=1, dilation=1):\n",
    "        super(CausalConv1D, self).__init__()\n",
    "        self.kernel_size = kernel_size\n",
    "        self.stride = stride\n",
    "        self.dilation = dilation\n",
    "        self.conv = nn.Conv1d(in_channels, out_channels, kernel_size, stride, dilation=dilation)\n",
    "    \n",
    "    def forward(self, x):\n",
    "        padding = (self.kernel_size - 1) * self.dilation\n",
    "        x = F.pad(x, (padding, 0))\n",
    "        return self.conv(x)"
   ]
  },
  {
   "cell_type": "markdown",
   "metadata": {},
   "source": [
    "learn more about the input and output of the model and make a basic model architecture and then build upon that, gradually adding gates and other features as in the original research paper"
   ]
  },
  {
   "cell_type": "code",
   "execution_count": null,
   "metadata": {},
   "outputs": [],
   "source": [
    "# model Class\n",
    "class waveNet(torch.nn.Module):\n",
    "    def __init__(self, \n",
    "                 input_size, \n",
    "                 in_channels=1, \n",
    "                 out_channels=1, \n",
    "                 stride=1, \n",
    "                 kernel_size=3):\n",
    "        super(waveNet).__init__()\n",
    "        self.input_size=input_size\n",
    "        self.in_channels=in_channels\n",
    "        self.out_channels=out_channels\n",
    "        self.stride=stride\n",
    "        self.conv_layer1 = CausalConv1D(in_channels, \n",
    "                                        out_channels, \n",
    "                                        kernel_size, \n",
    "                                        stride, \n",
    "                                        dilation=1)\n",
    "        self.conv_layer2 = CausalConv1D(in_channels,\n",
    "                                        out_channels,\n",
    "                                        kernel_size,\n",
    "                                        stride,\n",
    "                                        dilation=2)\n",
    "        self.conv_layer3 = CausalConv1D(in_channels,\n",
    "                                        out_channels,\n",
    "                                        kernel_size,\n",
    "                                        stride,\n",
    "                                        dilation=4)\n",
    "        self.conv_layer4 = CausalConv1D(in_channels,\n",
    "                                        out_channels,\n",
    "                                        kernel_size,\n",
    "                                        stride,\n",
    "                                        dilation=8)\n",
    "        \n",
    "        \n",
    "        \n",
    "\n"
   ]
  }
 ],
 "metadata": {
  "kernelspec": {
   "display_name": "base",
   "language": "python",
   "name": "python3"
  },
  "language_info": {
   "codemirror_mode": {
    "name": "ipython",
    "version": 3
   },
   "file_extension": ".py",
   "mimetype": "text/x-python",
   "name": "python",
   "nbconvert_exporter": "python",
   "pygments_lexer": "ipython3",
   "version": "3.11.5"
  }
 },
 "nbformat": 4,
 "nbformat_minor": 2
}
