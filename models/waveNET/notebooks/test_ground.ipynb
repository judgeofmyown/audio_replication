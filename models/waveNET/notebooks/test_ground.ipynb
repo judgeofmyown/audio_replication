{
 "cells": [
  {
   "cell_type": "code",
   "execution_count": 1,
   "metadata": {},
   "outputs": [],
   "source": [
    "import torch\n"
   ]
  },
  {
   "cell_type": "code",
   "execution_count": 24,
   "metadata": {},
   "outputs": [
    {
     "name": "stdout",
     "output_type": "stream",
     "text": [
      "tensor([[1., 2., 3., 4., 5., 6., 7.]])\n",
      "tensor([[ 8.4813, 11.4813, 14.4813]], grad_fn=<SqueezeBackward1>)\n",
      "Parameter containing:\n",
      "tensor([[[1., 1., 1.]]], requires_grad=True)\n"
     ]
    }
   ],
   "source": [
    "# class model_test(torch.nn.Module):\n",
    "#     def __init__(self):\n",
    "#         super(model_test).__init__()\n",
    "import torch.nn as nn\n",
    "\n",
    "conv1 = nn.Conv1d(in_channels=1, out_channels=1, kernel_size=3, stride=1, dilation=2)\n",
    "conv1.weight.data.fill_(1)\n",
    "x = torch.tensor([[1, 2, 3, 4, 5, 6, 7]], dtype=torch.float32)\n",
    "output = conv1(x)\n",
    "print(x)\n",
    "print(output)\n",
    "print(conv1.weight)"
   ]
  },
  {
   "cell_type": "code",
   "execution_count": 3,
   "metadata": {},
   "outputs": [
    {
     "name": "stdout",
     "output_type": "stream",
     "text": [
      "tensor([[[ 0.0000,  0.0000, -0.9219, -0.1989, -2.2070,  2.0648, -0.0259,\n",
      "          -1.2274, -0.7808,  1.9798,  0.4022, -0.4447]]])\n"
     ]
    }
   ],
   "source": [
    "import torch.nn.functional as F\n",
    "x = torch.randn(1,1,10)\n",
    "x = F.pad(x, (2,0))\n",
    "print(x)"
   ]
  },
  {
   "cell_type": "markdown",
   "metadata": {},
   "source": [
    "# Causal Convolution with dilation\n",
    "* implemented using padding the input with preceeding 0 padding and none at the end"
   ]
  },
  {
   "cell_type": "code",
   "execution_count": 30,
   "metadata": {},
   "outputs": [],
   "source": [
    "class CausalConv1D(nn.Module):\n",
    "    def __init__(self, in_channels, out_channels, kernel_size, stride=1, dilation=1):\n",
    "        super(CausalConv1D, self).__init__()\n",
    "        self.kernel_size = kernel_size\n",
    "        self.stride = stride\n",
    "        self.dilation = dilation\n",
    "        self.conv = nn.Conv1d(in_channels, out_channels, kernel_size, stride, dilation=dilation)\n",
    "        self.conv.weight.data.fill_(1)\n",
    "        self.conv.bias.data.fill_(0)\n",
    "        print(self.conv.weight)\n",
    "    \n",
    "    def forward(self, x):\n",
    "        padding = (self.kernel_size - 1)*self.dilation\n",
    "        x = F.pad(x, (padding, 0))\n",
    "        print(x)\n",
    "        return self.conv(x)\n",
    "    "
   ]
  },
  {
   "cell_type": "code",
   "execution_count": 31,
   "metadata": {},
   "outputs": [
    {
     "name": "stdout",
     "output_type": "stream",
     "text": [
      "Parameter containing:\n",
      "tensor([[[1., 1., 1.]]], requires_grad=True)\n",
      "tensor([[0., 0., 1., 2., 3., 4., 5.]])\n",
      "input:  tensor([[1., 2., 3., 4., 5.]])\n",
      "output:  tensor([[ 1.,  3.,  6.,  9., 12.]], grad_fn=<SqueezeBackward1>)\n",
      "Parameter containing:\n",
      "tensor([[[1., 1., 1.]]], requires_grad=True)\n",
      "tensor([[ 0.,  0.,  0.,  0.,  1.,  3.,  6.,  9., 12.]],\n",
      "       grad_fn=<ConstantPadNdBackward0>)\n",
      "output2 : tensor([[ 1.,  3.,  7., 12., 19.]], grad_fn=<SqueezeBackward1>)\n"
     ]
    }
   ],
   "source": [
    "causalconv = CausalConv1D(1, 1, 3, dilation=1)\n",
    "x = torch.tensor([[1, 2,3, 4, 5]], dtype=torch.float32)\n",
    "output = causalconv.forward(x)\n",
    "print(\"input: \", x)\n",
    "print(\"output: \", output)\n",
    "# print(causalconv.)\n",
    "causalconvdil2 = CausalConv1D(1, 1, 3, dilation=2)\n",
    "output2 = causalconvdil2.forward(output)\n",
    "print(\"output2 :\", output2)"
   ]
  }
 ],
 "metadata": {
  "kernelspec": {
   "display_name": "base",
   "language": "python",
   "name": "python3"
  },
  "language_info": {
   "codemirror_mode": {
    "name": "ipython",
    "version": 3
   },
   "file_extension": ".py",
   "mimetype": "text/x-python",
   "name": "python",
   "nbconvert_exporter": "python",
   "pygments_lexer": "ipython3",
   "version": "3.11.5"
  }
 },
 "nbformat": 4,
 "nbformat_minor": 2
}
